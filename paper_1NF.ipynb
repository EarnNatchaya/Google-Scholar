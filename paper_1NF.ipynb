{
 "cells": [
  {
   "cell_type": "code",
   "execution_count": null,
   "metadata": {},
   "outputs": [],
   "source": [
    "import pandas as pd \n",
    "import time\n",
    "start_time_allprocess = time.time()\n",
    "paper=pd.read_csv('paper.csv')\n",
    "p_paper = pd.DataFrame(columns=['title','authors','publication_date','description','cite_by'])\n",
    "rows = 0\n",
    "for index, row in paper.iterrows():\n",
    "    for token in str(row['authors']).split(','):\n",
    "        p_paper.loc[rows]=[row['title'],token,row['publication_date'],row['description'],row['cite_by']]\n",
    "        rows +=1\n",
    "p_paper.to_csv('1NF_paper.csv')\n",
    "print(\"--- %s seconds ---\" % (time.time() - start_time_allprocess))"
   ]
  }
 ],
 "metadata": {
  "kernelspec": {
   "display_name": "Python 3",
   "language": "python",
   "name": "python3"
  },
  "language_info": {
   "codemirror_mode": {
    "name": "ipython",
    "version": 3
   },
   "file_extension": ".py",
   "mimetype": "text/x-python",
   "name": "python",
   "nbconvert_exporter": "python",
   "pygments_lexer": "ipython3",
   "version": "3.8.5"
  }
 },
 "nbformat": 4,
 "nbformat_minor": 4
}
